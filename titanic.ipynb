{
  "nbformat": 4,
  "nbformat_minor": 0,
  "metadata": {
    "colab": {
      "provenance": [],
      "authorship_tag": "ABX9TyNGkzBai5dCecPu1tzlbmv/",
      "include_colab_link": true
    },
    "kernelspec": {
      "name": "python3",
      "display_name": "Python 3"
    },
    "language_info": {
      "name": "python"
    }
  },
  "cells": [
    {
      "cell_type": "markdown",
      "metadata": {
        "id": "view-in-github",
        "colab_type": "text"
      },
      "source": [
        "<a href=\"https://colab.research.google.com/github/AnmolGoklani/ML_Lab/blob/main/titanic.ipynb\" target=\"_parent\"><img src=\"https://colab.research.google.com/assets/colab-badge.svg\" alt=\"Open In Colab\"/></a>"
      ]
    },
    {
      "cell_type": "code",
      "execution_count": 43,
      "metadata": {
        "id": "dJwK1aajQMIf"
      },
      "outputs": [],
      "source": [
        "# Import the necessary libraries and load the titanic dataset from the\n",
        "# seaborn library into a pandas DataFrame.\n",
        "import pandas as pd\n",
        "import seaborn as sb"
      ]
    },
    {
      "cell_type": "code",
      "source": [
        "# Display the first 5 rows of the dataset.\n",
        "df = sb.load_dataset('titanic')\n",
        "dl = df.values.tolist()\n",
        "# print(df.head())\n",
        "print(\"The first five rows:\")\n",
        "for row in dl[:5]:\n",
        "  for column in row:\n",
        "    print(column , end = \"  \")\n",
        "  print(\"\")\n",
        "\n",
        "# for i in range(5):\n",
        "#   for column in df:\n",
        "#     print(column[i], end = \"  \")\n",
        "#   print(\"\")"
      ],
      "metadata": {
        "colab": {
          "base_uri": "https://localhost:8080/"
        },
        "id": "QnLrpXxZQwww",
        "outputId": "08f79823-b099-4513-e2e8-4fda7d20f98f"
      },
      "execution_count": 44,
      "outputs": [
        {
          "output_type": "stream",
          "name": "stdout",
          "text": [
            "The first five rows:\n",
            "0  3  male  22.0  1  0  7.25  S  Third  man  True  nan  Southampton  no  False  \n",
            "1  1  female  38.0  1  0  71.2833  C  First  woman  False  C  Cherbourg  yes  False  \n",
            "1  3  female  26.0  0  0  7.925  S  Third  woman  False  nan  Southampton  yes  True  \n",
            "1  1  female  35.0  1  0  53.1  S  First  woman  False  C  Southampton  yes  False  \n",
            "0  3  male  35.0  0  0  8.05  S  Third  man  True  nan  Southampton  no  True  \n"
          ]
        }
      ]
    },
    {
      "cell_type": "code",
      "source": [
        "#Print the column headers of the dataset.\n",
        "print(\"Columns:\" , end = \" \")\n",
        "print(df.columns.tolist())"
      ],
      "metadata": {
        "colab": {
          "base_uri": "https://localhost:8080/"
        },
        "id": "Qt7KNLvPN0B5",
        "outputId": "c09c8d83-d8cc-4697-e23c-439062e13a05"
      },
      "execution_count": 45,
      "outputs": [
        {
          "output_type": "stream",
          "name": "stdout",
          "text": [
            "Columns: ['survived', 'pclass', 'sex', 'age', 'sibsp', 'parch', 'fare', 'embarked', 'class', 'who', 'adult_male', 'deck', 'embark_town', 'alive', 'alone']\n"
          ]
        }
      ]
    },
    {
      "cell_type": "code",
      "source": [
        "#Change the column headers to uppercase.\n",
        "df.columns = df.columns.str.upper()\n",
        "print(df.columns.tolist())"
      ],
      "metadata": {
        "colab": {
          "base_uri": "https://localhost:8080/"
        },
        "id": "edidSDqON9SN",
        "outputId": "995b64a2-b269-406b-dee8-861fb3e51f9d"
      },
      "execution_count": 46,
      "outputs": [
        {
          "output_type": "stream",
          "name": "stdout",
          "text": [
            "['SURVIVED', 'PCLASS', 'SEX', 'AGE', 'SIBSP', 'PARCH', 'FARE', 'EMBARKED', 'CLASS', 'WHO', 'ADULT_MALE', 'DECK', 'EMBARK_TOWN', 'ALIVE', 'ALONE']\n"
          ]
        }
      ]
    },
    {
      "cell_type": "code",
      "source": [
        "# Calculate and display the descriptive statistics of the dataset.\n",
        "import math\n",
        "\n",
        "#mean\n",
        "def calc_mean(data):\n",
        "  return sum(data) / len(data)\n",
        "\n",
        "#standard deviation\n",
        "def calc_std(data):\n",
        "  mean = calc_mean(data)\n",
        "  variance = sum((x - mean) ** 2 for x in data)\n",
        "  return math.sqrt(variance / (len(data) - 1))\n",
        "\n",
        "#median\n",
        "def calc_median(data):\n",
        "  sdata = sorted(data)\n",
        "  n = len(sdata)\n",
        "  if n % 2 == 0:\n",
        "    return (sdata[n//2 - 1] + sdata[n//2]) / 2\n",
        "  else:\n",
        "    return sdata[n//2]\n",
        "\n",
        "#quartiles\n",
        "def calc_quartiles(data):\n",
        "  sdata = sorted(data)\n",
        "  n = len(sdata)\n",
        "\n",
        "  #25th percentile\n",
        "  per1 = sdata[n // 4]\n",
        "\n",
        "  #75th percentile\n",
        "  per2 = sdata[3 * n // 4]\n",
        "\n",
        "  return per1,per2\n",
        "\n",
        "#count unique values\n",
        "def cu(data):\n",
        "  return len(set(data))\n",
        "\n",
        "numeric_columns = ['AGE', 'FARE', 'SURVIVED' , 'PCLASS' , 'SIBSP' , 'PARCH']\n",
        "\n",
        "for column in numeric_columns:\n",
        "  data = [x for x in df[column.upper()] if not pd.isna(x)]  # Remove NaN values\n",
        "\n",
        "  mean = calc_mean(data)\n",
        "  std = calc_std(data)\n",
        "  min_val = min(data)\n",
        "  max_val = max(data)\n",
        "  median = calc_median(data)\n",
        "  per1, per2 = calc_quartiles(data)\n",
        "  unique_count = cu(data)\n",
        "\n",
        "  print(f\"\\nDescriptive statistics for {column}:\")\n",
        "  print(f\"Mean: {mean:.2f}\")\n",
        "  print(f\"Standard Deviation: {std:.3f}\")\n",
        "  print(f\"Minimum: {min_val:.2f}\")\n",
        "  print(f\"25th Percentile: {per1:.2f}\")\n",
        "  print(f\"Median (50th Percentile): {median:.2f}\")\n",
        "  print(f\"75th Percentile: {per2:.2f}\")\n",
        "  print(f\"Maximum: {max_val:.2f}\")\n",
        "  print(f\"Number of unique values: {unique_count}\")"
      ],
      "metadata": {
        "colab": {
          "base_uri": "https://localhost:8080/"
        },
        "id": "IiOsTgSlhOzy",
        "outputId": "9c205f46-eaed-4e54-f38c-6a7ceed9eeee"
      },
      "execution_count": 47,
      "outputs": [
        {
          "output_type": "stream",
          "name": "stdout",
          "text": [
            "\n",
            "Descriptive statistics for AGE:\n",
            "Mean: 29.70\n",
            "Standard Deviation: 14.526\n",
            "Minimum: 0.42\n",
            "25th Percentile: 20.00\n",
            "Median (50th Percentile): 28.00\n",
            "75th Percentile: 38.00\n",
            "Maximum: 80.00\n",
            "Number of unique values: 88\n",
            "\n",
            "Descriptive statistics for FARE:\n",
            "Mean: 32.20\n",
            "Standard Deviation: 49.693\n",
            "Minimum: 0.00\n",
            "25th Percentile: 7.90\n",
            "Median (50th Percentile): 14.45\n",
            "75th Percentile: 31.00\n",
            "Maximum: 512.33\n",
            "Number of unique values: 248\n",
            "\n",
            "Descriptive statistics for SURVIVED:\n",
            "Mean: 0.38\n",
            "Standard Deviation: 0.487\n",
            "Minimum: 0.00\n",
            "25th Percentile: 0.00\n",
            "Median (50th Percentile): 0.00\n",
            "75th Percentile: 1.00\n",
            "Maximum: 1.00\n",
            "Number of unique values: 2\n",
            "\n",
            "Descriptive statistics for PCLASS:\n",
            "Mean: 2.31\n",
            "Standard Deviation: 0.836\n",
            "Minimum: 1.00\n",
            "25th Percentile: 2.00\n",
            "Median (50th Percentile): 3.00\n",
            "75th Percentile: 3.00\n",
            "Maximum: 3.00\n",
            "Number of unique values: 3\n",
            "\n",
            "Descriptive statistics for SIBSP:\n",
            "Mean: 0.52\n",
            "Standard Deviation: 1.103\n",
            "Minimum: 0.00\n",
            "25th Percentile: 0.00\n",
            "Median (50th Percentile): 0.00\n",
            "75th Percentile: 1.00\n",
            "Maximum: 8.00\n",
            "Number of unique values: 7\n",
            "\n",
            "Descriptive statistics for PARCH:\n",
            "Mean: 0.38\n",
            "Standard Deviation: 0.806\n",
            "Minimum: 0.00\n",
            "25th Percentile: 0.00\n",
            "Median (50th Percentile): 0.00\n",
            "75th Percentile: 0.00\n",
            "Maximum: 6.00\n",
            "Number of unique values: 7\n"
          ]
        }
      ]
    },
    {
      "cell_type": "code",
      "source": [
        "#Check for missing values in the dataset and print the total number of missing values for each column.\n",
        "def func(data):\n",
        "    return sum(1 for x in data if pd.isna(x))\n",
        "\n",
        "print(\"Missing values in each column:\")\n",
        "for column in df.columns:\n",
        "    count = func(df[column])\n",
        "    print(f\"{column}: {count}\")"
      ],
      "metadata": {
        "colab": {
          "base_uri": "https://localhost:8080/"
        },
        "id": "1Wci_RdwkvL8",
        "outputId": "160bd17b-5b9e-4090-864c-7e6b2d52e7ee"
      },
      "execution_count": 48,
      "outputs": [
        {
          "output_type": "stream",
          "name": "stdout",
          "text": [
            "Missing values in each column:\n",
            "SURVIVED: 0\n",
            "PCLASS: 0\n",
            "SEX: 0\n",
            "AGE: 177\n",
            "SIBSP: 0\n",
            "PARCH: 0\n",
            "FARE: 0\n",
            "EMBARKED: 2\n",
            "CLASS: 0\n",
            "WHO: 0\n",
            "ADULT_MALE: 0\n",
            "DECK: 688\n",
            "EMBARK_TOWN: 2\n",
            "ALIVE: 0\n",
            "ALONE: 0\n"
          ]
        }
      ]
    },
    {
      "cell_type": "code",
      "source": [
        "#Fill the missing values in the AGE column with the median age\n",
        "age_values = [x for x in df['AGE'] if not pd.isna(x)]\n",
        "median_age = calc_median(age_values)\n",
        "\n",
        "# for i in range(len(df)):\n",
        "#     if pd.isna(df['AGE'][i]):\n",
        "#         df['AGE'][i] = median_age\n",
        "\n",
        "\n",
        "df.loc[df['AGE'].isna(), 'AGE'] = median_age\n",
        "\n",
        "print(f\"\\nMedian age used to fill missing values: {median_age:.2f}\")\n",
        "\n",
        "print(f\"Number of missing values in AGE column after filling: {func('AGE'): .2f}\")"
      ],
      "metadata": {
        "id": "kP1afZaL-KQm",
        "colab": {
          "base_uri": "https://localhost:8080/"
        },
        "outputId": "070bfdfa-e2b0-42aa-cfdf-79519199f0cb"
      },
      "execution_count": 83,
      "outputs": [
        {
          "output_type": "stream",
          "name": "stdout",
          "text": [
            "\n",
            "Median age used to fill missing values: 28.00\n",
            "Number of missing values in AGE column after filling:  0.00\n"
          ]
        }
      ]
    },
    {
      "cell_type": "code",
      "source": [
        "#Find the average age of the passengers.\n",
        "data = [x for x in df['AGE'] if not pd.isna(x)]\n",
        "avg = calc_mean(data)\n",
        "print(f\"\\nAverage age of passengers: {avg:.2f}\")"
      ],
      "metadata": {
        "colab": {
          "base_uri": "https://localhost:8080/"
        },
        "id": "ocsYCU8hm1BP",
        "outputId": "0ca09d99-2aa3-4d0e-f983-e966617f5670"
      },
      "execution_count": 50,
      "outputs": [
        {
          "output_type": "stream",
          "name": "stdout",
          "text": [
            "\n",
            "Average age of passengers: 29.36\n"
          ]
        }
      ]
    },
    {
      "cell_type": "code",
      "source": [
        "#Find the number of passengers who survived and those who did not\n",
        "survivors = sum(1 for x in df['SURVIVED'] if x == 1)\n",
        "non_survivors = sum(1 for x in df['SURVIVED'] if x == 0)\n",
        "\n",
        "print(\"\\nSurvival statistics:\")\n",
        "print(f\"Number of survivors: {survivors}\")\n",
        "print(f\"Number of non-survivors: {non_survivors}\")"
      ],
      "metadata": {
        "colab": {
          "base_uri": "https://localhost:8080/"
        },
        "id": "TeU7qWV4yH85",
        "outputId": "be820282-a99a-4c93-e283-a70a187867f8"
      },
      "execution_count": 51,
      "outputs": [
        {
          "output_type": "stream",
          "name": "stdout",
          "text": [
            "\n",
            "Survival statistics:\n",
            "Number of survivors: 342\n",
            "Number of non-survivors: 549\n"
          ]
        }
      ]
    },
    {
      "cell_type": "code",
      "source": [
        "#Calculate the survival rate\n",
        "total = len(df)\n",
        "rate = (survivors / total) * 100\n",
        "\n",
        "print(f\"\\nSurvival rate: {rate:.2f}%\")"
      ],
      "metadata": {
        "colab": {
          "base_uri": "https://localhost:8080/"
        },
        "id": "F0PHZ0oE1Ons",
        "outputId": "57a113b4-5fb9-44d5-cbf3-5deea69ffb03"
      },
      "execution_count": 52,
      "outputs": [
        {
          "output_type": "stream",
          "name": "stdout",
          "text": [
            "\n",
            "Survival rate: 38.38%\n"
          ]
        }
      ]
    },
    {
      "cell_type": "code",
      "source": [
        "import matplotlib.pyplot as plot\n",
        "\n",
        "#Plot a histogram of the ages of the passengers\n",
        "plot.figure(figsize=(12, 6))\n",
        "plot.hist(df['AGE'], bins=20, edgecolor='black', color='#ACDDDE')\n",
        "plot.title('Histogram of Passenger Ages')\n",
        "plot.xlabel('Age')\n",
        "plot.ylabel('Frequency')\n",
        "plot.show()"
      ],
      "metadata": {
        "colab": {
          "base_uri": "https://localhost:8080/",
          "height": 564
        },
        "id": "A_ILgPYZ3-j6",
        "outputId": "1a0cc4ce-cd56-494a-e084-4c00b0a6add2"
      },
      "execution_count": 74,
      "outputs": [
        {
          "output_type": "display_data",
          "data": {
            "text/plain": [
              "<Figure size 1200x600 with 1 Axes>"
            ],
            "image/png": "[encoded data removed]"
          },
          "metadata": {}
        }
      ]
    },
    {
      "cell_type": "code",
      "source": [
        "#Create a bar plot showing the number of passengers in each class\n",
        "cl_count = df['PCLASS'].value_counts().sort_index()\n",
        "\n",
        "plot.figure(figsize=(6, 6))\n",
        "plot.bar(cl_count.index, cl_count.values, color = '#b2a4d4' , width=0.5)\n",
        "plot.title('Number of Passengers in Each Class')\n",
        "plot.xlabel('Passenger Class')\n",
        "plot.ylabel('Number of Passengers')\n",
        "plot.xticks([1, 2, 3])\n",
        "plot.show()"
      ],
      "metadata": {
        "colab": {
          "base_uri": "https://localhost:8080/",
          "height": 564
        },
        "id": "YFpwU9jv4DM2",
        "outputId": "41439a37-6b03-424d-da04-8a044a5c67c6"
      },
      "execution_count": 81,
      "outputs": [
        {
          "output_type": "display_data",
          "data": {
            "text/plain": [
              "<Figure size 600x600 with 1 Axes>"
            ],
            "image/png": "[encoded data removed]"
          },
          "metadata": {}
        }
      ]
    },
    {
      "cell_type": "code",
      "source": [
        "#Create a count plot showing the number of survivors and non-survivors\n",
        "plot.figure(figsize=(6, 6))\n",
        "sb.countplot(x='SURVIVED', data=df , order=[1,0], palette = 'pastel' , hue = 'SURVIVED')\n",
        "plot.title('Number of Survivors and Non-Survivors')\n",
        "plot.xlabel('Survived')\n",
        "plot.ylabel('Count')\n",
        "plot.xticks([0, 1], ['Survived', 'Not Survived'])\n",
        "plot.show()"
      ],
      "metadata": {
        "colab": {
          "base_uri": "https://localhost:8080/",
          "height": 564
        },
        "id": "CHX4vjVF4fnD",
        "outputId": "c7e919e4-221b-4cfc-f242-8c8325b039ca"
      },
      "execution_count": 79,
      "outputs": [
        {
          "output_type": "display_data",
          "data": {
            "text/plain": [
              "<Figure size 600x600 with 1 Axes>"
            ],
            "image/png": "[encoded data removed]"
          },
          "metadata": {}
        }
      ]
    },
    {
      "cell_type": "code",
      "source": [],
      "metadata": {
        "id": "4gHAf4F94k1N"
      },
      "execution_count": 55,
      "outputs": []
    }
  ]
}